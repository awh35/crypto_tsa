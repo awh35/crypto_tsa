{
 "cells": [
  {
   "cell_type": "code",
   "execution_count": 30,
   "metadata": {},
   "outputs": [],
   "source": [
    "from functools import partial\n",
    "import logging\n",
    "\n",
    "import pandas as pd, dask.dataframe as dd\n",
    "import numpy as np\n",
    "\n",
    "from empyrical import sharpe_ratio\n",
    "\n",
    "import matplotlib.pyplot as plt\n",
    "plt.rcParams[\"figure.figsize\"] = (28, 6)\n",
    "plt.style.use(\"ggplot\")\n",
    "\n",
    "from utils import stationarity_test\n",
    "from residualisation import rolling_df_to_series, fa_residualise, pca_residualise\n",
    "\n",
    "logger = logging.getLogger(__name__)"
   ]
  },
  {
   "cell_type": "code",
   "execution_count": 31,
   "metadata": {},
   "outputs": [],
   "source": [
    "USECOLS = usecols=(\"time\", \"open\", \"close\", \"high\", \"low\", \"volume\", \"pair_name\", \"date\")"
   ]
  },
  {
   "cell_type": "code",
   "execution_count": 32,
   "metadata": {},
   "outputs": [
    {
     "ename": "KeyboardInterrupt",
     "evalue": "",
     "output_type": "error",
     "traceback": [
      "\u001b[0;31m---------------------------------------------------------------------------\u001b[0m",
      "\u001b[0;31mKeyboardInterrupt\u001b[0m                         Traceback (most recent call last)",
      "Cell \u001b[0;32mIn[32], line 3\u001b[0m\n\u001b[1;32m      1\u001b[0m data \u001b[39m=\u001b[39m dd\u001b[39m.\u001b[39mread_csv(\u001b[39m\"\u001b[39m\u001b[39mdata/*\u001b[39m\u001b[39m\"\u001b[39m, usecols\u001b[39m=\u001b[39mUSECOLS)\n\u001b[0;32m----> 3\u001b[0m daily_volumes \u001b[39m=\u001b[39m data\u001b[39m.\u001b[39;49mgroupby([\u001b[39m\"\u001b[39;49m\u001b[39mdate\u001b[39;49m\u001b[39m\"\u001b[39;49m, \u001b[39m\"\u001b[39;49m\u001b[39mpair_name\u001b[39;49m\u001b[39m\"\u001b[39;49m])\u001b[39m.\u001b[39;49msum()\u001b[39m.\u001b[39;49mcompute()\n\u001b[1;32m      4\u001b[0m daily_volumes \u001b[39m=\u001b[39m daily_volumes\u001b[39m.\u001b[39mreset_index()\u001b[39m.\u001b[39mpivot(values\u001b[39m=\u001b[39m\u001b[39m\"\u001b[39m\u001b[39mvolume\u001b[39m\u001b[39m\"\u001b[39m, index\u001b[39m=\u001b[39m\u001b[39m\"\u001b[39m\u001b[39mdate\u001b[39m\u001b[39m\"\u001b[39m, columns\u001b[39m=\u001b[39m\u001b[39m\"\u001b[39m\u001b[39mpair_name\u001b[39m\u001b[39m\"\u001b[39m)\n\u001b[1;32m      6\u001b[0m daily_prices \u001b[39m=\u001b[39m data\u001b[39m.\u001b[39mgroupby([\u001b[39m\"\u001b[39m\u001b[39mdate\u001b[39m\u001b[39m\"\u001b[39m, \u001b[39m\"\u001b[39m\u001b[39mpair_name\u001b[39m\u001b[39m\"\u001b[39m])\u001b[39m.\u001b[39mlast()\u001b[39m.\u001b[39mcompute()\n",
      "File \u001b[0;32m~/github_portfolio/crypto_tsa/env/lib/python3.9/site-packages/dask/base.py:315\u001b[0m, in \u001b[0;36mDaskMethodsMixin.compute\u001b[0;34m(self, **kwargs)\u001b[0m\n\u001b[1;32m    291\u001b[0m \u001b[39mdef\u001b[39;00m \u001b[39mcompute\u001b[39m(\u001b[39mself\u001b[39m, \u001b[39m*\u001b[39m\u001b[39m*\u001b[39mkwargs):\n\u001b[1;32m    292\u001b[0m \u001b[39m    \u001b[39m\u001b[39m\"\"\"Compute this dask collection\u001b[39;00m\n\u001b[1;32m    293\u001b[0m \n\u001b[1;32m    294\u001b[0m \u001b[39m    This turns a lazy Dask collection into its in-memory equivalent.\u001b[39;00m\n\u001b[0;32m   (...)\u001b[0m\n\u001b[1;32m    313\u001b[0m \u001b[39m    dask.base.compute\u001b[39;00m\n\u001b[1;32m    314\u001b[0m \u001b[39m    \"\"\"\u001b[39;00m\n\u001b[0;32m--> 315\u001b[0m     (result,) \u001b[39m=\u001b[39m compute(\u001b[39mself\u001b[39;49m, traverse\u001b[39m=\u001b[39;49m\u001b[39mFalse\u001b[39;49;00m, \u001b[39m*\u001b[39;49m\u001b[39m*\u001b[39;49mkwargs)\n\u001b[1;32m    316\u001b[0m     \u001b[39mreturn\u001b[39;00m result\n",
      "File \u001b[0;32m~/github_portfolio/crypto_tsa/env/lib/python3.9/site-packages/dask/base.py:600\u001b[0m, in \u001b[0;36mcompute\u001b[0;34m(traverse, optimize_graph, scheduler, get, *args, **kwargs)\u001b[0m\n\u001b[1;32m    597\u001b[0m     keys\u001b[39m.\u001b[39mappend(x\u001b[39m.\u001b[39m__dask_keys__())\n\u001b[1;32m    598\u001b[0m     postcomputes\u001b[39m.\u001b[39mappend(x\u001b[39m.\u001b[39m__dask_postcompute__())\n\u001b[0;32m--> 600\u001b[0m results \u001b[39m=\u001b[39m schedule(dsk, keys, \u001b[39m*\u001b[39;49m\u001b[39m*\u001b[39;49mkwargs)\n\u001b[1;32m    601\u001b[0m \u001b[39mreturn\u001b[39;00m repack([f(r, \u001b[39m*\u001b[39ma) \u001b[39mfor\u001b[39;00m r, (f, a) \u001b[39min\u001b[39;00m \u001b[39mzip\u001b[39m(results, postcomputes)])\n",
      "File \u001b[0;32m~/github_portfolio/crypto_tsa/env/lib/python3.9/site-packages/dask/threaded.py:89\u001b[0m, in \u001b[0;36mget\u001b[0;34m(dsk, keys, cache, num_workers, pool, **kwargs)\u001b[0m\n\u001b[1;32m     86\u001b[0m     \u001b[39melif\u001b[39;00m \u001b[39misinstance\u001b[39m(pool, multiprocessing\u001b[39m.\u001b[39mpool\u001b[39m.\u001b[39mPool):\n\u001b[1;32m     87\u001b[0m         pool \u001b[39m=\u001b[39m MultiprocessingPoolExecutor(pool)\n\u001b[0;32m---> 89\u001b[0m results \u001b[39m=\u001b[39m get_async(\n\u001b[1;32m     90\u001b[0m     pool\u001b[39m.\u001b[39;49msubmit,\n\u001b[1;32m     91\u001b[0m     pool\u001b[39m.\u001b[39;49m_max_workers,\n\u001b[1;32m     92\u001b[0m     dsk,\n\u001b[1;32m     93\u001b[0m     keys,\n\u001b[1;32m     94\u001b[0m     cache\u001b[39m=\u001b[39;49mcache,\n\u001b[1;32m     95\u001b[0m     get_id\u001b[39m=\u001b[39;49m_thread_get_id,\n\u001b[1;32m     96\u001b[0m     pack_exception\u001b[39m=\u001b[39;49mpack_exception,\n\u001b[1;32m     97\u001b[0m     \u001b[39m*\u001b[39;49m\u001b[39m*\u001b[39;49mkwargs,\n\u001b[1;32m     98\u001b[0m )\n\u001b[1;32m    100\u001b[0m \u001b[39m# Cleanup pools associated to dead threads\u001b[39;00m\n\u001b[1;32m    101\u001b[0m \u001b[39mwith\u001b[39;00m pools_lock:\n",
      "File \u001b[0;32m~/github_portfolio/crypto_tsa/env/lib/python3.9/site-packages/dask/local.py:500\u001b[0m, in \u001b[0;36mget_async\u001b[0;34m(submit, num_workers, dsk, result, cache, get_id, rerun_exceptions_locally, pack_exception, raise_exception, callbacks, dumps, loads, chunksize, **kwargs)\u001b[0m\n\u001b[1;32m    498\u001b[0m \u001b[39mwhile\u001b[39;00m state[\u001b[39m\"\u001b[39m\u001b[39mwaiting\u001b[39m\u001b[39m\"\u001b[39m] \u001b[39mor\u001b[39;00m state[\u001b[39m\"\u001b[39m\u001b[39mready\u001b[39m\u001b[39m\"\u001b[39m] \u001b[39mor\u001b[39;00m state[\u001b[39m\"\u001b[39m\u001b[39mrunning\u001b[39m\u001b[39m\"\u001b[39m]:\n\u001b[1;32m    499\u001b[0m     fire_tasks(chunksize)\n\u001b[0;32m--> 500\u001b[0m     \u001b[39mfor\u001b[39;00m key, res_info, failed \u001b[39min\u001b[39;00m queue_get(queue)\u001b[39m.\u001b[39mresult():\n\u001b[1;32m    501\u001b[0m         \u001b[39mif\u001b[39;00m failed:\n\u001b[1;32m    502\u001b[0m             exc, tb \u001b[39m=\u001b[39m loads(res_info)\n",
      "File \u001b[0;32m~/github_portfolio/crypto_tsa/env/lib/python3.9/site-packages/dask/local.py:137\u001b[0m, in \u001b[0;36mqueue_get\u001b[0;34m(q)\u001b[0m\n\u001b[1;32m    136\u001b[0m \u001b[39mdef\u001b[39;00m \u001b[39mqueue_get\u001b[39m(q):\n\u001b[0;32m--> 137\u001b[0m     \u001b[39mreturn\u001b[39;00m q\u001b[39m.\u001b[39;49mget()\n",
      "File \u001b[0;32m/usr/lib/python3.9/queue.py:171\u001b[0m, in \u001b[0;36mQueue.get\u001b[0;34m(self, block, timeout)\u001b[0m\n\u001b[1;32m    169\u001b[0m \u001b[39melif\u001b[39;00m timeout \u001b[39mis\u001b[39;00m \u001b[39mNone\u001b[39;00m:\n\u001b[1;32m    170\u001b[0m     \u001b[39mwhile\u001b[39;00m \u001b[39mnot\u001b[39;00m \u001b[39mself\u001b[39m\u001b[39m.\u001b[39m_qsize():\n\u001b[0;32m--> 171\u001b[0m         \u001b[39mself\u001b[39;49m\u001b[39m.\u001b[39;49mnot_empty\u001b[39m.\u001b[39;49mwait()\n\u001b[1;32m    172\u001b[0m \u001b[39melif\u001b[39;00m timeout \u001b[39m<\u001b[39m \u001b[39m0\u001b[39m:\n\u001b[1;32m    173\u001b[0m     \u001b[39mraise\u001b[39;00m \u001b[39mValueError\u001b[39;00m(\u001b[39m\"\u001b[39m\u001b[39m'\u001b[39m\u001b[39mtimeout\u001b[39m\u001b[39m'\u001b[39m\u001b[39m must be a non-negative number\u001b[39m\u001b[39m\"\u001b[39m)\n",
      "File \u001b[0;32m/usr/lib/python3.9/threading.py:312\u001b[0m, in \u001b[0;36mCondition.wait\u001b[0;34m(self, timeout)\u001b[0m\n\u001b[1;32m    310\u001b[0m \u001b[39mtry\u001b[39;00m:    \u001b[39m# restore state no matter what (e.g., KeyboardInterrupt)\u001b[39;00m\n\u001b[1;32m    311\u001b[0m     \u001b[39mif\u001b[39;00m timeout \u001b[39mis\u001b[39;00m \u001b[39mNone\u001b[39;00m:\n\u001b[0;32m--> 312\u001b[0m         waiter\u001b[39m.\u001b[39;49macquire()\n\u001b[1;32m    313\u001b[0m         gotit \u001b[39m=\u001b[39m \u001b[39mTrue\u001b[39;00m\n\u001b[1;32m    314\u001b[0m     \u001b[39melse\u001b[39;00m:\n",
      "\u001b[0;31mKeyboardInterrupt\u001b[0m: "
     ]
    }
   ],
   "source": [
    "data = dd.read_csv(\"data/*\", usecols=USECOLS)\n",
    "\n",
    "daily_volumes = data.groupby([\"date\", \"pair_name\"]).sum().compute()\n",
    "daily_volumes = daily_volumes.reset_index().pivot(values=\"volume\", index=\"date\", columns=\"pair_name\")\n",
    "\n",
    "daily_prices = data.groupby([\"date\", \"pair_name\"]).last().compute()\n",
    "daily_prices = daily_prices.reset_index().pivot(values=\"close\", index=\"date\", columns=\"pair_name\")"
   ]
  },
  {
   "cell_type": "code",
   "execution_count": null,
   "metadata": {},
   "outputs": [
    {
     "name": "stdout",
     "output_type": "stream",
     "text": [
      "[*********************100%***********************]  1 of 1 completed\n"
     ]
    }
   ],
   "source": [
    "import pandas as pd\n",
    "import yfinance as yf\n",
    "\n",
    "ticker= \"tsla\"\n",
    "tsla_data = yf.download(ticker, start=\"2018-01-01\", end=\"2022-10-14\")"
   ]
  },
  {
   "cell_type": "code",
   "execution_count": null,
   "metadata": {},
   "outputs": [
    {
     "data": {
      "text/html": [
       "<div>\n",
       "<style scoped>\n",
       "    .dataframe tbody tr th:only-of-type {\n",
       "        vertical-align: middle;\n",
       "    }\n",
       "\n",
       "    .dataframe tbody tr th {\n",
       "        vertical-align: top;\n",
       "    }\n",
       "\n",
       "    .dataframe thead th {\n",
       "        text-align: right;\n",
       "    }\n",
       "</style>\n",
       "<table border=\"1\" class=\"dataframe\">\n",
       "  <thead>\n",
       "    <tr style=\"text-align: right;\">\n",
       "      <th></th>\n",
       "      <th>Open</th>\n",
       "      <th>High</th>\n",
       "      <th>Low</th>\n",
       "      <th>Close</th>\n",
       "      <th>Adj Close</th>\n",
       "      <th>Volume</th>\n",
       "    </tr>\n",
       "    <tr>\n",
       "      <th>Date</th>\n",
       "      <th></th>\n",
       "      <th></th>\n",
       "      <th></th>\n",
       "      <th></th>\n",
       "      <th></th>\n",
       "      <th></th>\n",
       "    </tr>\n",
       "  </thead>\n",
       "  <tbody>\n",
       "    <tr>\n",
       "      <th>2018-01-02</th>\n",
       "      <td>20.799999</td>\n",
       "      <td>21.474001</td>\n",
       "      <td>20.733334</td>\n",
       "      <td>21.368668</td>\n",
       "      <td>21.368668</td>\n",
       "      <td>65283000</td>\n",
       "    </tr>\n",
       "    <tr>\n",
       "      <th>2018-01-03</th>\n",
       "      <td>21.400000</td>\n",
       "      <td>21.683332</td>\n",
       "      <td>21.036667</td>\n",
       "      <td>21.150000</td>\n",
       "      <td>21.150000</td>\n",
       "      <td>67822500</td>\n",
       "    </tr>\n",
       "    <tr>\n",
       "      <th>2018-01-04</th>\n",
       "      <td>20.858000</td>\n",
       "      <td>21.236668</td>\n",
       "      <td>20.378668</td>\n",
       "      <td>20.974667</td>\n",
       "      <td>20.974667</td>\n",
       "      <td>149194500</td>\n",
       "    </tr>\n",
       "    <tr>\n",
       "      <th>2018-01-05</th>\n",
       "      <td>21.108000</td>\n",
       "      <td>21.149332</td>\n",
       "      <td>20.799999</td>\n",
       "      <td>21.105333</td>\n",
       "      <td>21.105333</td>\n",
       "      <td>68868000</td>\n",
       "    </tr>\n",
       "    <tr>\n",
       "      <th>2018-01-08</th>\n",
       "      <td>21.066668</td>\n",
       "      <td>22.468000</td>\n",
       "      <td>21.033333</td>\n",
       "      <td>22.427334</td>\n",
       "      <td>22.427334</td>\n",
       "      <td>147891000</td>\n",
       "    </tr>\n",
       "    <tr>\n",
       "      <th>...</th>\n",
       "      <td>...</td>\n",
       "      <td>...</td>\n",
       "      <td>...</td>\n",
       "      <td>...</td>\n",
       "      <td>...</td>\n",
       "      <td>...</td>\n",
       "    </tr>\n",
       "    <tr>\n",
       "      <th>2022-10-07</th>\n",
       "      <td>233.940002</td>\n",
       "      <td>234.570007</td>\n",
       "      <td>222.020004</td>\n",
       "      <td>223.070007</td>\n",
       "      <td>223.070007</td>\n",
       "      <td>83916800</td>\n",
       "    </tr>\n",
       "    <tr>\n",
       "      <th>2022-10-10</th>\n",
       "      <td>223.929993</td>\n",
       "      <td>226.990005</td>\n",
       "      <td>218.360001</td>\n",
       "      <td>222.960007</td>\n",
       "      <td>222.960007</td>\n",
       "      <td>67925000</td>\n",
       "    </tr>\n",
       "    <tr>\n",
       "      <th>2022-10-11</th>\n",
       "      <td>220.949997</td>\n",
       "      <td>225.750000</td>\n",
       "      <td>215.000000</td>\n",
       "      <td>216.500000</td>\n",
       "      <td>216.500000</td>\n",
       "      <td>77013200</td>\n",
       "    </tr>\n",
       "    <tr>\n",
       "      <th>2022-10-12</th>\n",
       "      <td>215.330002</td>\n",
       "      <td>219.300003</td>\n",
       "      <td>211.509995</td>\n",
       "      <td>217.240005</td>\n",
       "      <td>217.240005</td>\n",
       "      <td>66860700</td>\n",
       "    </tr>\n",
       "    <tr>\n",
       "      <th>2022-10-13</th>\n",
       "      <td>208.300003</td>\n",
       "      <td>222.990005</td>\n",
       "      <td>206.220001</td>\n",
       "      <td>221.720001</td>\n",
       "      <td>221.720001</td>\n",
       "      <td>91483000</td>\n",
       "    </tr>\n",
       "  </tbody>\n",
       "</table>\n",
       "<p>1205 rows × 6 columns</p>\n",
       "</div>"
      ],
      "text/plain": [
       "                  Open        High         Low       Close   Adj Close  \\\n",
       "Date                                                                     \n",
       "2018-01-02   20.799999   21.474001   20.733334   21.368668   21.368668   \n",
       "2018-01-03   21.400000   21.683332   21.036667   21.150000   21.150000   \n",
       "2018-01-04   20.858000   21.236668   20.378668   20.974667   20.974667   \n",
       "2018-01-05   21.108000   21.149332   20.799999   21.105333   21.105333   \n",
       "2018-01-08   21.066668   22.468000   21.033333   22.427334   22.427334   \n",
       "...                ...         ...         ...         ...         ...   \n",
       "2022-10-07  233.940002  234.570007  222.020004  223.070007  223.070007   \n",
       "2022-10-10  223.929993  226.990005  218.360001  222.960007  222.960007   \n",
       "2022-10-11  220.949997  225.750000  215.000000  216.500000  216.500000   \n",
       "2022-10-12  215.330002  219.300003  211.509995  217.240005  217.240005   \n",
       "2022-10-13  208.300003  222.990005  206.220001  221.720001  221.720001   \n",
       "\n",
       "               Volume  \n",
       "Date                   \n",
       "2018-01-02   65283000  \n",
       "2018-01-03   67822500  \n",
       "2018-01-04  149194500  \n",
       "2018-01-05   68868000  \n",
       "2018-01-08  147891000  \n",
       "...               ...  \n",
       "2022-10-07   83916800  \n",
       "2022-10-10   67925000  \n",
       "2022-10-11   77013200  \n",
       "2022-10-12   66860700  \n",
       "2022-10-13   91483000  \n",
       "\n",
       "[1205 rows x 6 columns]"
      ]
     },
     "execution_count": 4,
     "metadata": {},
     "output_type": "execute_result"
    }
   ],
   "source": [
    "tsla_data"
   ]
  },
  {
   "cell_type": "code",
   "execution_count": null,
   "metadata": {},
   "outputs": [],
   "source": [
    "log_returns = np.log(1 + daily_prices.pct_change())"
   ]
  },
  {
   "attachments": {},
   "cell_type": "markdown",
   "metadata": {},
   "source": [
    "GARCH is used to model (log) returns over time since, unlike traditional (S)AR(I)MA modelling, it accounts for heteroskedasticity which is often present due to the fluctuating volatility of financial markets. "
   ]
  },
  {
   "attachments": {},
   "cell_type": "markdown",
   "metadata": {},
   "source": [
    "ARCH "
   ]
  },
  {
   "attachments": {},
   "cell_type": "markdown",
   "metadata": {},
   "source": [
    "We should check that the variance of our returns are indeed autocorrelated."
   ]
  },
  {
   "cell_type": "code",
   "execution_count": null,
   "metadata": {},
   "outputs": [],
   "source": [
    "log_returns.rolling(WINDOW, WINDOW // 2).std().plot()"
   ]
  },
  {
   "cell_type": "code",
   "execution_count": null,
   "metadata": {},
   "outputs": [],
   "source": []
  },
  {
   "cell_type": "code",
   "execution_count": 40,
   "metadata": {},
   "outputs": [
    {
     "name": "stderr",
     "output_type": "stream",
     "text": [
      "100%|██████████| 1104/1104 [00:47<00:00, 23.26it/s]\n"
     ]
    }
   ],
   "source": [
    "from arch import arch_model\n",
    "from arch.__future__ import reindexing\n",
    "from residualisation import rolling_df_to_series\n",
    "\n",
    "def garch_forecast(y, **garch_kwargs):\n",
    "    garch = arch_model(y, rescale=False, **garch_kwargs)\n",
    "    fitted_garch = garch.fit(disp=\"off\")\n",
    "    return fitted_garch.forecast(horizon=1).variance.values[-1]\n",
    "\n",
    "\n",
    "def garch_multi_forecast(arr, **garch_kwargs):\n",
    "    return np.apply_along_axis(garch_forecast, axis=0, arr=arr[:-1])\n",
    "\n",
    "\n",
    "out = rolling_df_to_series(df, lambda d: garch_multi_forecast(d, rescale = False), window=100)"
   ]
  },
  {
   "cell_type": "code",
   "execution_count": null,
   "metadata": {},
   "outputs": [
    {
     "data": {
      "text/html": [
       "<div>\n",
       "<style scoped>\n",
       "    .dataframe tbody tr th:only-of-type {\n",
       "        vertical-align: middle;\n",
       "    }\n",
       "\n",
       "    .dataframe tbody tr th {\n",
       "        vertical-align: top;\n",
       "    }\n",
       "\n",
       "    .dataframe thead th {\n",
       "        text-align: right;\n",
       "    }\n",
       "</style>\n",
       "<table border=\"1\" class=\"dataframe\">\n",
       "  <thead>\n",
       "    <tr style=\"text-align: right;\">\n",
       "      <th></th>\n",
       "      <th>Close</th>\n",
       "      <th>Close</th>\n",
       "    </tr>\n",
       "    <tr>\n",
       "      <th>Date</th>\n",
       "      <th></th>\n",
       "      <th></th>\n",
       "    </tr>\n",
       "  </thead>\n",
       "  <tbody>\n",
       "    <tr>\n",
       "      <th>2018-01-03</th>\n",
       "      <td>-0.010233</td>\n",
       "      <td>-0.020466</td>\n",
       "    </tr>\n",
       "    <tr>\n",
       "      <th>2018-01-04</th>\n",
       "      <td>-0.008290</td>\n",
       "      <td>-0.016580</td>\n",
       "    </tr>\n",
       "    <tr>\n",
       "      <th>2018-01-05</th>\n",
       "      <td>0.006230</td>\n",
       "      <td>0.012459</td>\n",
       "    </tr>\n",
       "    <tr>\n",
       "      <th>2018-01-08</th>\n",
       "      <td>0.062638</td>\n",
       "      <td>0.125276</td>\n",
       "    </tr>\n",
       "    <tr>\n",
       "      <th>2018-01-09</th>\n",
       "      <td>-0.008085</td>\n",
       "      <td>-0.016171</td>\n",
       "    </tr>\n",
       "    <tr>\n",
       "      <th>...</th>\n",
       "      <td>...</td>\n",
       "      <td>...</td>\n",
       "    </tr>\n",
       "    <tr>\n",
       "      <th>2022-10-07</th>\n",
       "      <td>-0.063243</td>\n",
       "      <td>-0.126486</td>\n",
       "    </tr>\n",
       "    <tr>\n",
       "      <th>2022-10-10</th>\n",
       "      <td>-0.000493</td>\n",
       "      <td>-0.000986</td>\n",
       "    </tr>\n",
       "    <tr>\n",
       "      <th>2022-10-11</th>\n",
       "      <td>-0.028974</td>\n",
       "      <td>-0.057948</td>\n",
       "    </tr>\n",
       "    <tr>\n",
       "      <th>2022-10-12</th>\n",
       "      <td>0.003418</td>\n",
       "      <td>0.006836</td>\n",
       "    </tr>\n",
       "    <tr>\n",
       "      <th>2022-10-13</th>\n",
       "      <td>0.020622</td>\n",
       "      <td>0.041245</td>\n",
       "    </tr>\n",
       "  </tbody>\n",
       "</table>\n",
       "<p>1204 rows × 2 columns</p>\n",
       "</div>"
      ],
      "text/plain": [
       "               Close     Close\n",
       "Date                          \n",
       "2018-01-03 -0.010233 -0.020466\n",
       "2018-01-04 -0.008290 -0.016580\n",
       "2018-01-05  0.006230  0.012459\n",
       "2018-01-08  0.062638  0.125276\n",
       "2018-01-09 -0.008085 -0.016171\n",
       "...              ...       ...\n",
       "2022-10-07 -0.063243 -0.126486\n",
       "2022-10-10 -0.000493 -0.000986\n",
       "2022-10-11 -0.028974 -0.057948\n",
       "2022-10-12  0.003418  0.006836\n",
       "2022-10-13  0.020622  0.041245\n",
       "\n",
       "[1204 rows x 2 columns]"
      ]
     },
     "metadata": {},
     "output_type": "display_data"
    },
    {
     "name": "stdout",
     "output_type": "stream",
     "text": [
      "Iteration:      1,   Func. Count:      6,   Neg. LLF: 157578721.1857228\n",
      "Iteration:      2,   Func. Count:     17,   Neg. LLF: 723202262.9682336\n",
      "Iteration:      3,   Func. Count:     25,   Neg. LLF: -2200.003905010571\n",
      "Optimization terminated successfully    (Exit mode 0)\n",
      "            Current function value: -2200.0039049190036\n",
      "            Iterations: 7\n",
      "            Function evaluations: 25\n",
      "            Gradient evaluations: 3\n",
      "Iteration:      1,   Func. Count:      6,   Neg. LLF: 8638271589.918297\n",
      "Iteration:      2,   Func. Count:     17,   Neg. LLF: 21517.090307136103\n",
      "Iteration:      3,   Func. Count:     26,   Neg. LLF: -1225.8617485773502\n",
      "Iteration:      4,   Func. Count:     32,   Neg. LLF: -1109.4978626739994\n",
      "Iteration:      5,   Func. Count:     38,   Neg. LLF: -1351.6364232920555\n",
      "Iteration:      6,   Func. Count:     44,   Neg. LLF: -1319.581193336596\n",
      "Iteration:      7,   Func. Count:     50,   Neg. LLF: -1350.1417799916449\n",
      "Iteration:      8,   Func. Count:     56,   Neg. LLF: -1328.5190123645214\n",
      "Iteration:      9,   Func. Count:     62,   Neg. LLF: -1367.0844892966672\n",
      "Iteration:     10,   Func. Count:     68,   Neg. LLF: -1367.2172029385515\n",
      "Iteration:     11,   Func. Count:     74,   Neg. LLF: -1367.2790869313544\n",
      "Iteration:     12,   Func. Count:     78,   Neg. LLF: -1367.2790869292744\n",
      "Optimization terminated successfully    (Exit mode 0)\n",
      "            Current function value: -1367.2790869313544\n",
      "            Iterations: 12\n",
      "            Function evaluations: 78\n",
      "            Gradient evaluations: 12\n"
     ]
    },
    {
     "name": "stderr",
     "output_type": "stream",
     "text": [
      "/home/Alex/github_portfolio/crypto_tsa/env/lib/python3.9/site-packages/arch/univariate/base.py:309: DataScaleWarning: y is poorly scaled, which may affect convergence of the optimizer when\n",
      "estimating the model parameters. The scale of y is 0.001686. Parameter\n",
      "estimation work better when this value is between 1 and 1000. The recommended\n",
      "rescaling is 10 * y.\n",
      "\n",
      "This warning can be disabled by either rescaling y before initializing the\n",
      "model or by setting rescale=False.\n",
      "\n",
      "  warnings.warn(\n",
      "/home/Alex/github_portfolio/crypto_tsa/env/lib/python3.9/site-packages/arch/__future__/_utility.py:11: FutureWarning: \n",
      "The default for reindex is True. After September 2021 this will change to\n",
      "False. Set reindex to True or False to silence this message. Alternatively,\n",
      "you can use the import comment\n",
      "\n",
      "from arch.__future__ import reindexing\n",
      "\n",
      "to globally set reindex to True and silence this warning.\n",
      "\n",
      "  warnings.warn(\n",
      "/home/Alex/github_portfolio/crypto_tsa/env/lib/python3.9/site-packages/arch/univariate/base.py:309: DataScaleWarning: y is poorly scaled, which may affect convergence of the optimizer when\n",
      "estimating the model parameters. The scale of y is 0.006745. Parameter\n",
      "estimation work better when this value is between 1 and 1000. The recommended\n",
      "rescaling is 10 * y.\n",
      "\n",
      "This warning can be disabled by either rescaling y before initializing the\n",
      "model or by setting rescale=False.\n",
      "\n",
      "  warnings.warn(\n",
      "/home/Alex/github_portfolio/crypto_tsa/env/lib/python3.9/site-packages/arch/__future__/_utility.py:11: FutureWarning: \n",
      "The default for reindex is True. After September 2021 this will change to\n",
      "False. Set reindex to True or False to silence this message. Alternatively,\n",
      "you can use the import comment\n",
      "\n",
      "from arch.__future__ import reindexing\n",
      "\n",
      "to globally set reindex to True and silence this warning.\n",
      "\n",
      "  warnings.warn(\n"
     ]
    },
    {
     "data": {
      "text/plain": [
       "array([[0.00138627, 0.00568751]])"
      ]
     },
     "metadata": {},
     "output_type": "display_data"
    }
   ],
   "source": [
    "from arch import arch_model\n",
    "import numpy as np\n",
    "\n",
    "fn = lambda s: arch_model(s, vol=\"garch\", p=1, o=0, q=1).fit().forecast(horizon=1).variance.values[-1, :]\n",
    "df = pd.concat([tsla_data.Close.pct_change().dropna(), 2*tsla_data.Close.pct_change().dropna()], axis=1)\n",
    "display(df)\n",
    "display(np.apply_along_axis(fn, axis=0, arr=df))"
   ]
  },
  {
   "cell_type": "code",
   "execution_count": null,
   "metadata": {},
   "outputs": [],
   "source": [
    "def residualise(arr, n_components, decomp_model):\n",
    "    fa = decomp_model(n_components)\n",
    "    factors = fa.fit_transform(arr[:-1])\n",
    "    linear_model = LinearRegression()\n",
    "    linear_model.fit(factors, arr[:-1])\n",
    "    return arr[-1] - linear_model.predict(fa.transform(arr[-1].reshape(1, -1)))"
   ]
  },
  {
   "cell_type": "code",
   "execution_count": null,
   "metadata": {},
   "outputs": [],
   "source": [
    "\n",
    "\n",
    "def garch_vol_prediction(arr, **garch_kwargs):\n",
    "    garch = arch_model(arr[:-1], **garch_kwargs)\n",
    "    fitted_garch = garch.fit(disp=\"off\")\n",
    "    pred = fitted_garch.forecast(horizon=1)\n",
    "\n",
    "\n",
    "rolling_df_to_series(log_returns, predict_vol)"
   ]
  },
  {
   "cell_type": "code",
   "execution_count": null,
   "metadata": {},
   "outputs": [
    {
     "data": {
      "text/plain": [
       "                     Constant Mean - GARCH Model Results                      \n",
       "==============================================================================\n",
       "Dep. Variable:                  Close   R-squared:                       0.000\n",
       "Mean Model:             Constant Mean   Adj. R-squared:                  0.000\n",
       "Vol Model:                      GARCH   Log-Likelihood:                2200.00\n",
       "Distribution:                  Normal   AIC:                          -4392.01\n",
       "Method:            Maximum Likelihood   BIC:                          -4371.63\n",
       "                                        No. Observations:                 1204\n",
       "Date:                Sat, Jan 14 2023   Df Residuals:                     1203\n",
       "Time:                        21:33:54   Df Model:                            1\n",
       "                                 Mean Model                                 \n",
       "============================================================================\n",
       "                 coef    std err          t      P>|t|      95.0% Conf. Int.\n",
       "----------------------------------------------------------------------------\n",
       "mu         2.4845e-03  1.087e-03      2.287  2.222e-02 [3.549e-04,4.614e-03]\n",
       "                               Volatility Model                              \n",
       "=============================================================================\n",
       "                 coef    std err          t      P>|t|       95.0% Conf. Int.\n",
       "-----------------------------------------------------------------------------\n",
       "omega      1.6856e-04  1.744e-04      0.967      0.334 [-1.732e-04,5.103e-04]\n",
       "alpha[1]       0.0999  5.772e-02      1.732  8.335e-02   [-1.318e-02,  0.213]\n",
       "beta[1]        0.7996      0.155      5.166  2.393e-07      [  0.496,  1.103]\n",
       "=============================================================================\n",
       "\n",
       "Covariance estimator: robust\n",
       "ARCHModelResult, id: 0x7f7c80c96dc0"
      ]
     },
     "execution_count": 11,
     "metadata": {},
     "output_type": "execute_result"
    }
   ],
   "source": [
    "garch_fitted"
   ]
  },
  {
   "cell_type": "code",
   "execution_count": null,
   "metadata": {},
   "outputs": [],
   "source": [
    "garch_forecast = garch_fitted.forecast(horizon=1)\n",
    "predicted_et = garch_forecast.mean[\"h.1\"].iloc[-1]"
   ]
  }
 ],
 "metadata": {
  "kernelspec": {
   "display_name": "Python 3.9.2 ('env': venv)",
   "language": "python",
   "name": "python3"
  },
  "language_info": {
   "codemirror_mode": {
    "name": "ipython",
    "version": 3
   },
   "file_extension": ".py",
   "mimetype": "text/x-python",
   "name": "python",
   "nbconvert_exporter": "python",
   "pygments_lexer": "ipython3",
   "version": "3.9.2 (default, Feb 28 2021, 17:03:44) \n[GCC 10.2.1 20210110]"
  },
  "orig_nbformat": 4,
  "vscode": {
   "interpreter": {
    "hash": "07b4da58936c6c4b4f0b443e39092da22a9759147f79b88b8f833f8b20541b0c"
   }
  }
 },
 "nbformat": 4,
 "nbformat_minor": 2
}
